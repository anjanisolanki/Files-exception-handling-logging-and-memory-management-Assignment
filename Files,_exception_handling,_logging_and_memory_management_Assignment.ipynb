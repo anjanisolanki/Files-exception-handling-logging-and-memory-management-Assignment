{
  "nbformat": 4,
  "nbformat_minor": 0,
  "metadata": {
    "colab": {
      "provenance": [],
      "authorship_tag": "ABX9TyMknRnTUguCydGvYw0wfdgW",
      "include_colab_link": true
    },
    "kernelspec": {
      "name": "python3",
      "display_name": "Python 3"
    },
    "language_info": {
      "name": "python"
    }
  },
  "cells": [
    {
      "cell_type": "markdown",
      "metadata": {
        "id": "view-in-github",
        "colab_type": "text"
      },
      "source": [
        "<a href=\"https://colab.research.google.com/github/anjanisolanki/Files-exception-handling-logging-and-memory-management-Assignment/blob/main/Files%2C_exception_handling%2C_logging_and_memory_management_Assignment.ipynb\" target=\"_parent\"><img src=\"https://colab.research.google.com/assets/colab-badge.svg\" alt=\"Open In Colab\"/></a>"
      ]
    },
    {
      "cell_type": "markdown",
      "source": [
        "# **# Files, exceptional handling, logging and memory management Questions**"
      ],
      "metadata": {
        "id": "B6hqoFTQgsDn"
      }
    },
    {
      "cell_type": "code",
      "execution_count": null,
      "metadata": {
        "id": "XglwCGqzgT5f"
      },
      "outputs": [],
      "source": [
        "# 1.What is the difference between interpreted and compiled languages?\n",
        "\n",
        "# Interpreted languages run code line by line, while compiled languages translate the whole code before running.\n",
        "# Example:- Python is interpreted, C is compiled."
      ]
    },
    {
      "cell_type": "code",
      "source": [
        "# 2. What is exception handling in Python?\n",
        "\n",
        "# Exception handling in Python means managing errors in a program without stopping it.\n",
        "# Example: Using try and except to handle errors like division by zero."
      ],
      "metadata": {
        "id": "I9lK1jcchAK5"
      },
      "execution_count": null,
      "outputs": []
    },
    {
      "cell_type": "code",
      "source": [
        "# 3. What is the purpose of the finally block in exception handling?\n",
        "\n",
        "# The finally block runs always, whether an error happens or not, to clean up or finish tasks.\n",
        "# Example: Closing a file or database connection in finally."
      ],
      "metadata": {
        "id": "aNh4vXfphLEE"
      },
      "execution_count": null,
      "outputs": []
    },
    {
      "cell_type": "code",
      "source": [
        "# 4. What is logging in Python?\n",
        "\n",
        "# Logging in Python means recording messages about a program’s execution for debugging or tracking.\n",
        "# Example: Saving error messages or info in a log file using the logging module."
      ],
      "metadata": {
        "id": "CXqEDJr9hQiD"
      },
      "execution_count": null,
      "outputs": []
    },
    {
      "cell_type": "code",
      "source": [
        "# 5. What is the significance of the __del__ method in Python?\n",
        "\n",
        "# The __del__ method is called automatically when an object is deleted to clean up resources.\n",
        "# Example: __del__ can close a file when the object using it is destroyed."
      ],
      "metadata": {
        "id": "gDj6SL9JhUWd"
      },
      "execution_count": null,
      "outputs": []
    },
    {
      "cell_type": "code",
      "source": [
        "# 6. What is the difference between import and from ... import in Python?\n",
        "\n",
        "# import brings in the whole module, while from ... import brings specific parts only.\n",
        "# Example: import math vs from math import sqrt."
      ],
      "metadata": {
        "id": "WHWI_PrThYAW"
      },
      "execution_count": null,
      "outputs": []
    },
    {
      "cell_type": "code",
      "source": [
        "# 7. How can you handle multiple exceptions in Python?\n",
        "\n",
        "# We can handle multiple exceptions using multiple except blocks or a tuple of exceptions.\n",
        "# Example: except (TypeError, ValueError): handles both errors together."
      ],
      "metadata": {
        "id": "JdiLmCkshcvM"
      },
      "execution_count": null,
      "outputs": []
    },
    {
      "cell_type": "code",
      "source": [
        "# 8. What is the purpose of the with statement when handling files in Python?\n",
        "\n",
        "# The with statement automatically opens and closes files, even if an error happens.\n",
        "# Example: with open(\"file.txt\") as f: safely handles the file."
      ],
      "metadata": {
        "id": "Oqd94U9ihica"
      },
      "execution_count": null,
      "outputs": []
    },
    {
      "cell_type": "code",
      "source": [
        "# 9. What is the difference between multithreading and multiprocessing?\n",
        "\n",
        "# Multithreading runs multiple tasks in one process, while multiprocessing runs each task in a separate process.\n",
        "# Example: Threads share memory; processes have separate memory."
      ],
      "metadata": {
        "id": "5NyagMbRhlVm"
      },
      "execution_count": null,
      "outputs": []
    },
    {
      "cell_type": "code",
      "source": [
        "# 10. What are the advantages of using logging in a program?\n",
        "\n",
        "# Logging helps to track errors, monitor flow, and debug without stopping the program.\n",
        "# Example: Logs can show when and where a bug happened."
      ],
      "metadata": {
        "id": "IGOL2eP_hoxq"
      },
      "execution_count": null,
      "outputs": []
    },
    {
      "cell_type": "code",
      "source": [
        "# 11. What is memory management in Python?\n",
        "\n",
        "# Memory management in Python means automatically handling memory allocation and release.\n",
        "# Example: Python uses garbage collection to free unused memory."
      ],
      "metadata": {
        "id": "yCq6bvERhryi"
      },
      "execution_count": null,
      "outputs": []
    },
    {
      "cell_type": "code",
      "source": [
        "# 12. What are the basic steps involved in exception handling in Python?\n",
        "\n",
        "# The basic steps are using try, except, else, and finally blocks to handle errors safely.\n",
        "# Example: try runs code, except handles errors, finally always runs."
      ],
      "metadata": {
        "id": "7PV3ydKVhu1s"
      },
      "execution_count": null,
      "outputs": []
    },
    {
      "cell_type": "code",
      "source": [
        "# 13.  Why is memory management important in Python?\n",
        "\n",
        "# Memory management is important to avoid memory leaks and keep the program fast and efficient.\n",
        "# Example: It frees unused memory so the program doesn’t slow down."
      ],
      "metadata": {
        "id": "mbpna0E3hx9G"
      },
      "execution_count": null,
      "outputs": []
    },
    {
      "cell_type": "code",
      "source": [
        "# 14. What is the role of try and except in exception handling?\n",
        "\n",
        "# The try block runs the code, and the except block catches and handles errors if they happen.\n",
        "# Example:\n",
        "\n",
        "# try: x=1/0\n",
        "# except: print(\"error\")"
      ],
      "metadata": {
        "id": "t8G_YqdDh1Tw"
      },
      "execution_count": null,
      "outputs": []
    },
    {
      "cell_type": "code",
      "source": [
        "# 15. How does Python's garbage collection system work?\n",
        "\n",
        "# Python’s garbage collection automatically removes unused objects to free memory.\n",
        "# Example: It deletes variables no longer in use."
      ],
      "metadata": {
        "id": "1lbLbv68h4dK"
      },
      "execution_count": null,
      "outputs": []
    },
    {
      "cell_type": "code",
      "source": [
        "# 16. What is the purpose of the else block in exception handling?\n",
        "\n",
        "# The else block runs only if no error occurs in the try block.\n",
        "# Example: Use else to run code after try succeeds."
      ],
      "metadata": {
        "id": "hHZsXFETh8MM"
      },
      "execution_count": null,
      "outputs": []
    },
    {
      "cell_type": "code",
      "source": [
        "# 17.  What are the common logging levels in Python?\n",
        "\n",
        "# Common logging levels are DEBUG, INFO, WARNING, ERROR, and CRITICAL.\n",
        "# Example: logging.warning(\"This is a warning\")."
      ],
      "metadata": {
        "id": "JXo9J6UEh_ae"
      },
      "execution_count": null,
      "outputs": []
    },
    {
      "cell_type": "code",
      "source": [
        "# 18.  What is the difference between os.fork() and multiprocessing in Python?\n",
        "\n",
        "# os.fork() creates a new process on Unix only, while multiprocessing works on all platforms and is easier to use.\n",
        "# Example: Use multiprocessing for cross-platform process creation."
      ],
      "metadata": {
        "id": "gC1_D9UMiC6Y"
      },
      "execution_count": null,
      "outputs": []
    },
    {
      "cell_type": "code",
      "source": [
        "# 19. What is the importance of closing a file in Python?\n",
        "\n",
        "# Closing a file saves changes and frees system resources.\n",
        "# Example: file.close() after writing to a file."
      ],
      "metadata": {
        "id": "n6YAD8zkiF9K"
      },
      "execution_count": null,
      "outputs": []
    },
    {
      "cell_type": "code",
      "source": [
        "# 20. What is the difference between file.read() and file.readline() in Python?\n",
        "\n",
        "# file.read() reads the whole file, while file.readline() reads one line at a time.\n",
        "# Example: Use readline() to read line by line in a loop."
      ],
      "metadata": {
        "id": "TxRI0b-qiJEM"
      },
      "execution_count": null,
      "outputs": []
    },
    {
      "cell_type": "code",
      "source": [
        "# 21. What is the logging module in Python used for?\n",
        "\n",
        "# The logging module is used to record messages for tracking and debugging a program.\n",
        "# Example: logging.error(\"Something went wrong\")."
      ],
      "metadata": {
        "id": "CC76_WK2iMie"
      },
      "execution_count": null,
      "outputs": []
    },
    {
      "cell_type": "code",
      "source": [
        "# 22.  What is the os module in Python used for in file handling?\n",
        "\n",
        "# The os module helps in interacting with the file system, like creating, deleting, or moving files.\n",
        "# Example: os.remove(\"file.txt\") deletes a file."
      ],
      "metadata": {
        "id": "ticyWfdqiQP4"
      },
      "execution_count": null,
      "outputs": []
    },
    {
      "cell_type": "code",
      "source": [
        "# 23. What are the challenges associated with memory management in Python?\n",
        "\n",
        "# Challenges include memory leaks, circular references, and managing large data efficiently.\n",
        "# Example: Unused objects not cleared due to circular references."
      ],
      "metadata": {
        "id": "-PHyQquriTka"
      },
      "execution_count": null,
      "outputs": []
    },
    {
      "cell_type": "code",
      "source": [
        "# 24. How do you raise an exception manually in Python?\n",
        "\n",
        "# You can raise an exception manually using the raise keyword.\n",
        "# Example: raise ValueError(\"Invalid input\")."
      ],
      "metadata": {
        "id": "d6Wgb_WSiVg2"
      },
      "execution_count": null,
      "outputs": []
    },
    {
      "cell_type": "code",
      "source": [
        "# 25. Why is it important to use multithreading in certain applications?\n",
        "\n",
        "# Multithreading is useful to run multiple tasks at once, improving speed in I/O-heavy apps.\n",
        "# Example: Downloading files while the program keeps running."
      ],
      "metadata": {
        "id": "MK9Nkmk5ih54"
      },
      "execution_count": null,
      "outputs": []
    },
    {
      "cell_type": "markdown",
      "source": [
        "# **# Practical Questions**"
      ],
      "metadata": {
        "id": "DMEbeoucr3a_"
      }
    },
    {
      "cell_type": "code",
      "source": [
        "# 1.How can you open a file for writing in Python and write a string to it?\n",
        "\n",
        "# Write a string to a file\n",
        "with open(\"example.txt\", \"w\") as file:\n",
        "    file.write(\"Hello, this is a test.\")"
      ],
      "metadata": {
        "id": "mZ2MDr8Sr28f"
      },
      "execution_count": null,
      "outputs": []
    },
    {
      "cell_type": "code",
      "source": [
        "# 2.Write a Python program to read the contents of a file and print each line.\n",
        "\n",
        "# Read and print each line from a file\n",
        "with open(\"example.txt\", \"r\") as file:\n",
        "    for line in file:\n",
        "        print(line.strip())"
      ],
      "metadata": {
        "colab": {
          "base_uri": "https://localhost:8080/"
        },
        "id": "eiAtqPP7sHFD",
        "outputId": "f31c7df9-d4b2-44d9-bf09-8cb7f5bd835c"
      },
      "execution_count": null,
      "outputs": [
        {
          "output_type": "stream",
          "name": "stdout",
          "text": [
            "Hello, this is a test.\n"
          ]
        }
      ]
    },
    {
      "cell_type": "code",
      "source": [
        "# 3. How would you handle a case where the file doesn't exist while trying to open it for reading?\n",
        "\n",
        "# Handle file not found error\n",
        "try:\n",
        "    with open(\"not_exist.txt\", \"r\") as file:\n",
        "        for line in file:\n",
        "            print(line.strip())\n",
        "except FileNotFoundError:\n",
        "    print(\"File does not exist.\")"
      ],
      "metadata": {
        "colab": {
          "base_uri": "https://localhost:8080/"
        },
        "id": "L3AT8AhSsLsJ",
        "outputId": "4c9de521-04de-4d19-8d5f-627911624b8f"
      },
      "execution_count": null,
      "outputs": [
        {
          "output_type": "stream",
          "name": "stdout",
          "text": [
            "File does not exist.\n"
          ]
        }
      ]
    },
    {
      "cell_type": "code",
      "source": [
        "# 4. Write a Python script that reads from one file and writes its content to another file.\n",
        "\n",
        "# Read from one file and write to another file\n",
        "#with open(\"source.txt\", \"r\") as source_file:\n",
        "#    content = source_file.read()\n",
        "\n",
        "#with open(\"destination.txt\", \"w\") as destination_file:\n",
        "#    destination_file.write(content)"
      ],
      "metadata": {
        "id": "eCwo9KO-sTH9"
      },
      "execution_count": null,
      "outputs": []
    },
    {
      "cell_type": "code",
      "source": [
        "# 5.  How would you catch and handle division by zero error in Python?\n",
        "\n",
        "# Catch and handle division by zero error\n",
        "try:\n",
        "    result = 10 / 0\n",
        "except ZeroDivisionError:\n",
        "    print(\"Cannot divide by zero.\")"
      ],
      "metadata": {
        "id": "LpZzcJ4osWYP",
        "colab": {
          "base_uri": "https://localhost:8080/"
        },
        "outputId": "09bf8237-dc37-43eb-f363-e0b9fcb49c31"
      },
      "execution_count": null,
      "outputs": [
        {
          "output_type": "stream",
          "name": "stdout",
          "text": [
            "Cannot divide by zero.\n"
          ]
        }
      ]
    },
    {
      "cell_type": "code",
      "source": [
        "# 6.  Write a Python program that logs an error message to a log file when a division by zero exception occurs.\n",
        "\n",
        "import logging\n",
        "\n",
        "# Set up logging\n",
        "logging.basicConfig(filename=\"error.log\", level=logging.ERROR)\n",
        "\n",
        "try:\n",
        "    result = 10 / 0\n",
        "except ZeroDivisionError:\n",
        "    logging.error(\"Division by zero error occurred.\")"
      ],
      "metadata": {
        "id": "RVmAX9ZnsZpp",
        "colab": {
          "base_uri": "https://localhost:8080/"
        },
        "outputId": "2f8dba5f-0fbc-483c-e81e-bdbf369e9b1d"
      },
      "execution_count": null,
      "outputs": [
        {
          "output_type": "stream",
          "name": "stderr",
          "text": [
            "ERROR:root:Division by zero error occurred.\n"
          ]
        }
      ]
    },
    {
      "cell_type": "code",
      "source": [
        "# 7. How do you log information at different levels (INFO, ERROR, WARNING) in Python using the logging module?\n",
        "\n",
        "import logging\n",
        "\n",
        "# Set up logging\n",
        "logging.basicConfig(filename=\"app.log\", level=logging.DEBUG)\n",
        "\n",
        "logging.info(\"This is an info message.\")\n",
        "logging.warning(\"This is a warning message.\")\n",
        "logging.error(\"This is an error message.\")"
      ],
      "metadata": {
        "id": "rao56uWdseIZ",
        "colab": {
          "base_uri": "https://localhost:8080/"
        },
        "outputId": "cbaa3565-8d9c-45a9-b34e-b1e3245c9945"
      },
      "execution_count": null,
      "outputs": [
        {
          "output_type": "stream",
          "name": "stderr",
          "text": [
            "WARNING:root:This is a warning message.\n",
            "ERROR:root:This is an error message.\n"
          ]
        }
      ]
    },
    {
      "cell_type": "code",
      "source": [
        "# 8. Write a program to handle a file opening error using exception handling.\n",
        "\n",
        "# Handle file opening error using exception handling\n",
        "try:\n",
        "    with open(\"missing_file.txt\", \"r\") as file:\n",
        "        content = file.read()\n",
        "except FileNotFoundError:\n",
        "    print(\"Error: File not found.\")"
      ],
      "metadata": {
        "id": "uf17k-BBshlk",
        "colab": {
          "base_uri": "https://localhost:8080/"
        },
        "outputId": "dd65c5cc-bda6-48b5-8ebc-f88bf6cc354d"
      },
      "execution_count": null,
      "outputs": [
        {
          "output_type": "stream",
          "name": "stdout",
          "text": [
            "Error: File not found.\n"
          ]
        }
      ]
    },
    {
      "cell_type": "code",
      "source": [
        "#9. How can you read a file line by line and store its content in a list in Python?\n",
        "\n",
        "# Read a file line by line and store in a list\n",
        "with open(\"example.txt\", \"r\") as file:\n",
        "    lines = file.readlines()\n",
        "\n",
        "print(lines)"
      ],
      "metadata": {
        "id": "FdX76sbhslLt",
        "colab": {
          "base_uri": "https://localhost:8080/"
        },
        "outputId": "4ce914fc-cdb2-4e6f-8b62-45d7d4a751e5"
      },
      "execution_count": null,
      "outputs": [
        {
          "output_type": "stream",
          "name": "stdout",
          "text": [
            "['Hello, this is a test.']\n"
          ]
        }
      ]
    },
    {
      "cell_type": "code",
      "source": [
        "#10.  How can you append data to an existing file in Python?\n",
        "\n",
        "# Append data to an existing file\n",
        "with open(\"example.txt\", \"a\") as file:\n",
        "    file.write(\"\\nThis is an appended line.\")"
      ],
      "metadata": {
        "id": "BmcBZzussqd7"
      },
      "execution_count": null,
      "outputs": []
    },
    {
      "cell_type": "code",
      "source": [
        "# 11. Write a Python program that uses a try-except block to handle an error when attempting to access a dictionary key that doesn't exist.\n",
        "\n",
        "# Handle missing dictionary key error using try-except\n",
        "my_dict = {\"name\": \"Alice\", \"age\": 25}\n",
        "\n",
        "try:\n",
        "    print(my_dict[\"gender\"])\n",
        "except KeyError:\n",
        "    print(\"Error: Key not found in dictionary.\")"
      ],
      "metadata": {
        "colab": {
          "base_uri": "https://localhost:8080/"
        },
        "id": "WG4L6k6bsuxs",
        "outputId": "6c09583c-a58c-4c78-d534-b00c13700bbe"
      },
      "execution_count": null,
      "outputs": [
        {
          "output_type": "stream",
          "name": "stdout",
          "text": [
            "Error: Key not found in dictionary.\n"
          ]
        }
      ]
    },
    {
      "cell_type": "code",
      "source": [
        "#12.  Write a program that demonstrates using multiple except blocks to handle different types of exceptions.\n",
        "\n",
        "# Multiple except blocks for different exceptions\n",
        "try:\n",
        "    num = int(\"abc\")  # Will raise ValueError\n",
        "    result = 10 / 0   # Will raise ZeroDivisionError\n",
        "except ValueError:\n",
        "    print(\"Error: Invalid value.\")\n",
        "except ZeroDivisionError:\n",
        "    print(\"Error: Cannot divide by zero.\")"
      ],
      "metadata": {
        "colab": {
          "base_uri": "https://localhost:8080/"
        },
        "id": "etbx8uu5s2dl",
        "outputId": "9d55d572-42b9-45bf-93f8-722a79f92515"
      },
      "execution_count": null,
      "outputs": [
        {
          "output_type": "stream",
          "name": "stdout",
          "text": [
            "Error: Invalid value.\n"
          ]
        }
      ]
    },
    {
      "cell_type": "code",
      "source": [
        "#13. How would you check if a file exists before attempting to read it in Python?\n",
        "\n",
        "import os\n",
        "\n",
        "# Check if file exists before reading\n",
        "if os.path.exists(\"example.txt\"):\n",
        "    with open(\"example.txt\", \"r\") as file:\n",
        "        content = file.read()\n",
        "        print(content)\n",
        "else:\n",
        "    print(\"File does not exist.\")"
      ],
      "metadata": {
        "colab": {
          "base_uri": "https://localhost:8080/"
        },
        "id": "r9uMbBFCtAyy",
        "outputId": "2319495a-ae80-4356-f87e-c7a4b6ff8d2b"
      },
      "execution_count": null,
      "outputs": [
        {
          "output_type": "stream",
          "name": "stdout",
          "text": [
            "Hello, this is a test.\n",
            "This is an appended line.\n"
          ]
        }
      ]
    },
    {
      "cell_type": "code",
      "source": [
        "#14. Write a program that uses the logging module to log both informational and error messages.\n",
        "\n",
        "import logging\n",
        "\n",
        "# Set up logging\n",
        "logging.basicConfig(filename=\"logfile.log\", level=logging.DEBUG)\n",
        "\n",
        "logging.info(\"Program started successfully.\")\n",
        "try:\n",
        "    result = 10 / 0\n",
        "except ZeroDivisionError:\n",
        "    logging.error(\"Tried to divide by zero.\")"
      ],
      "metadata": {
        "colab": {
          "base_uri": "https://localhost:8080/"
        },
        "id": "jd9lIgvutECt",
        "outputId": "34ace7d7-6923-4789-af7c-f9b12b38b8b6"
      },
      "execution_count": null,
      "outputs": [
        {
          "output_type": "stream",
          "name": "stderr",
          "text": [
            "ERROR:root:Tried to divide by zero.\n"
          ]
        }
      ]
    },
    {
      "cell_type": "code",
      "source": [
        "#15. Write a Python program that prints the content of a file and handles the case when the file is empty.\n",
        "\n",
        "# Print file content and handle empty file case\n",
        "try:\n",
        "    with open(\"example.txt\", \"r\") as file:\n",
        "        content = file.read()\n",
        "        if content:\n",
        "            print(content)\n",
        "        else:\n",
        "            print(\"The file is empty.\")\n",
        "except FileNotFoundError:\n",
        "    print(\"File not found.\")"
      ],
      "metadata": {
        "colab": {
          "base_uri": "https://localhost:8080/"
        },
        "id": "RaKIY0sgtINc",
        "outputId": "1441c5e6-1ab8-4896-e232-4d11cb5fc287"
      },
      "execution_count": null,
      "outputs": [
        {
          "output_type": "stream",
          "name": "stdout",
          "text": [
            "Hello, this is a test.\n",
            "This is an appended line.\n"
          ]
        }
      ]
    },
    {
      "cell_type": "code",
      "source": [
        "%pip install memory_profiler"
      ],
      "metadata": {
        "colab": {
          "base_uri": "https://localhost:8080/"
        },
        "id": "jvQfuujkApd0",
        "outputId": "4fc25dee-3a38-4c26-e383-6ce7eecb75e5"
      },
      "execution_count": null,
      "outputs": [
        {
          "output_type": "stream",
          "name": "stdout",
          "text": [
            "Requirement already satisfied: memory_profiler in /usr/local/lib/python3.11/dist-packages (0.61.0)\n",
            "Requirement already satisfied: psutil in /usr/local/lib/python3.11/dist-packages (from memory_profiler) (5.9.5)\n"
          ]
        }
      ]
    },
    {
      "cell_type": "code",
      "source": [
        "# 16. Demonstrate how to use memory profiling to check the memory usage of a small program.\n",
        "\n",
        "# Use memory profiling to check memory usage\n",
        "from memory_profiler import profile\n",
        "\n",
        "@profile\n",
        "def my_function():\n",
        "    numbers = [i for i in range(10000)]\n",
        "    total = sum(numbers)\n",
        "    print(\"Total:\", total)\n",
        "\n",
        "my_function()"
      ],
      "metadata": {
        "colab": {
          "base_uri": "https://localhost:8080/"
        },
        "id": "Tg9BfD8GtL7O",
        "outputId": "51cef82d-1ad6-491b-c12b-cb37af2ead7f"
      },
      "execution_count": null,
      "outputs": [
        {
          "output_type": "stream",
          "name": "stdout",
          "text": [
            "ERROR: Could not find file /tmp/ipython-input-218-4270770561.py\n",
            "Total: 49995000\n"
          ]
        }
      ]
    },
    {
      "cell_type": "code",
      "source": [
        "#17. Write a Python program to create and write a list of numbers to a file, one number per line.\n",
        "\n",
        "# Write a list of numbers to a file, one number per line\n",
        "numbers = [1, 2, 3, 4, 5]\n",
        "\n",
        "with open(\"numbers.txt\", \"w\") as file:\n",
        "    for number in numbers:\n",
        "        file.write(str(number) + \"\\n\")"
      ],
      "metadata": {
        "id": "e4rDrvkVtPou"
      },
      "execution_count": null,
      "outputs": []
    },
    {
      "cell_type": "code",
      "source": [
        "# 18. How would you implement a basic logging setup that logs to a file with rotation after 1MB?\n",
        "\n",
        "import logging\n",
        "from logging.handlers import RotatingFileHandler\n",
        "\n",
        "# Set up rotating log handler\n",
        "handler = RotatingFileHandler(\"rotating.log\", maxBytes=1_000_000, backupCount=3)\n",
        "logging.basicConfig(handlers=[handler], level=logging.INFO)\n",
        "\n",
        "# Example log message\n",
        "logging.info(\"This is a log message.\")"
      ],
      "metadata": {
        "id": "tWJ_Vi9AtTB5"
      },
      "execution_count": null,
      "outputs": []
    },
    {
      "cell_type": "code",
      "source": [
        "#19. Write a program that handles both IndexError and KeyError using a try-except block.\n",
        "\n",
        "# Handle IndexError and KeyError using try-except\n",
        "my_list = [1, 2, 3]\n",
        "my_dict = {\"name\": \"Alice\"}\n",
        "\n",
        "try:\n",
        "    print(my_list[5])        # IndexError\n",
        "    print(my_dict[\"age\"])    # KeyError\n",
        "except IndexError:\n",
        "    print(\"Index out of range.\")\n",
        "except KeyError:\n",
        "    print(\"Key not found in dictionary.\")"
      ],
      "metadata": {
        "colab": {
          "base_uri": "https://localhost:8080/"
        },
        "id": "XXJfmmnTtYiv",
        "outputId": "f850ace6-9595-4b21-c8fa-ddc434698092"
      },
      "execution_count": null,
      "outputs": [
        {
          "output_type": "stream",
          "name": "stdout",
          "text": [
            "Index out of range.\n"
          ]
        }
      ]
    },
    {
      "cell_type": "code",
      "source": [
        "#20.  How would you open a file and read its contents using a context manager in Python?\n",
        "\n",
        "# Open and read a file using a context manager\n",
        "with open(\"example.txt\", \"r\") as file:\n",
        "    content = file.read()\n",
        "    print(content)"
      ],
      "metadata": {
        "colab": {
          "base_uri": "https://localhost:8080/"
        },
        "id": "dBW7UgZmtcWJ",
        "outputId": "45b52979-4b26-48db-c59f-57789f4a2cde"
      },
      "execution_count": null,
      "outputs": [
        {
          "output_type": "stream",
          "name": "stdout",
          "text": [
            "Hello, this is a test.\n",
            "This is an appended line.\n"
          ]
        }
      ]
    },
    {
      "cell_type": "code",
      "source": [
        "# 21. Write a Python program that reads a file and prints the number of occurrences of a specific word.\n",
        "\n",
        "# Count occurrences of a specific word in a file\n",
        "word_to_count = \"python\"\n",
        "\n",
        "with open(\"example.txt\", \"r\") as file:\n",
        "    content = file.read()\n",
        "    count = content.lower().count(word_to_count.lower())\n",
        "    print(f\"The word '{word_to_count}' occurred {count} times.\")"
      ],
      "metadata": {
        "colab": {
          "base_uri": "https://localhost:8080/"
        },
        "id": "eA7EAkv3tgTo",
        "outputId": "8355d91c-0f70-4c84-851c-f11f60607b47"
      },
      "execution_count": null,
      "outputs": [
        {
          "output_type": "stream",
          "name": "stdout",
          "text": [
            "The word 'python' occurred 0 times.\n"
          ]
        }
      ]
    },
    {
      "cell_type": "code",
      "source": [
        "# 22. How can you check if a file is empty before attempting to read its contents?\n",
        "\n",
        "import os\n",
        "\n",
        "# Check if a file is empty before reading\n",
        "if os.path.getsize(\"example.txt\") == 0:\n",
        "    print(\"The file is empty.\")\n",
        "else:\n",
        "    with open(\"example.txt\", \"r\") as file:\n",
        "        content = file.read()\n",
        "        print(content)"
      ],
      "metadata": {
        "colab": {
          "base_uri": "https://localhost:8080/"
        },
        "id": "Vr2bgE16tjuL",
        "outputId": "93d7cf50-cf0c-4de1-d081-86a1f0d9531e"
      },
      "execution_count": null,
      "outputs": [
        {
          "output_type": "stream",
          "name": "stdout",
          "text": [
            "Hello, this is a test.\n",
            "This is an appended line.\n"
          ]
        }
      ]
    },
    {
      "cell_type": "code",
      "source": [
        "# 23. Write a Python program that writes to a log file when an error occurs during file handling.\n",
        "\n",
        "import logging\n",
        "\n",
        "# Set up logging to a file\n",
        "logging.basicConfig(filename=\"file_errors.log\", level=logging.ERROR)\n",
        "\n",
        "try:\n",
        "    with open(\"non_existing_file.txt\", \"r\") as file:\n",
        "        data = file.read()\n",
        "except FileNotFoundError as e:\n",
        "    logging.error(f\"File not found: {e}\")"
      ],
      "metadata": {
        "colab": {
          "base_uri": "https://localhost:8080/"
        },
        "id": "pdLeWe-Ytnvs",
        "outputId": "ba558ce8-253e-4002-938d-f6887eacab71"
      },
      "execution_count": null,
      "outputs": [
        {
          "output_type": "stream",
          "name": "stderr",
          "text": [
            "ERROR:root:File not found: [Errno 2] No such file or directory: 'non_existing_file.txt'\n"
          ]
        }
      ]
    }
  ]
}